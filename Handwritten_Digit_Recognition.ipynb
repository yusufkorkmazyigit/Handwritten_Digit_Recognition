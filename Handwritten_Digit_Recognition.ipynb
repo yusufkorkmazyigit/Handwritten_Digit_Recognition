{
  "nbformat": 4,
  "nbformat_minor": 0,
  "metadata": {
    "colab": {
      "provenance": []
    },
    "kernelspec": {
      "name": "python3",
      "display_name": "Python 3"
    },
    "language_info": {
      "name": "python"
    }
  },
  "cells": [
    {
      "cell_type": "markdown",
      "source": [
        "\n",
        " **YAPAY SINIR AGLARI (ANN) ILE RAKAM TANIMA**\n",
        "1. İş Problemi (Business Problem)\n",
        "2. Veriyi Anlamak (Data Understanding )\n",
        "3. Veriyi Hazirlamak. (Data Preperation)\n",
        "4. Modelleme (Modelling)\n",
        "5. Değerlendirme (Evulation)\n",
        "\n",
        "\n",
        "\n"
      ],
      "metadata": {
        "id": "6baNZzPEt67Q"
      }
    },
    {
      "cell_type": "markdown",
      "source": [
        "1 ) İş Problemi - Insan gücü kaynagını daha verimli kullanabilir miyiz?\n",
        "\n",
        "*Veri Seti;*\n",
        "\n",
        "MNIST = (\"Modified National Institute of Standards and Technology database\")\n",
        "\n"
      ],
      "metadata": {
        "id": "SeA9S4j3wNn4"
      }
    },
    {
      "cell_type": "markdown",
      "source": [
        "2) **Veriyi Anlamak (DATA UNDERSTANDING)**"
      ],
      "metadata": {
        "id": "pkgVyqV7xs4F"
      }
    },
    {
      "cell_type": "code",
      "source": [
        "pip install tensorflow"
      ],
      "metadata": {
        "colab": {
          "base_uri": "https://localhost:8080/"
        },
        "id": "mGH5IBaLxLIJ",
        "outputId": "72d7909f-46ac-44b1-dd6f-918344070c43"
      },
      "execution_count": null,
      "outputs": [
        {
          "output_type": "stream",
          "name": "stdout",
          "text": [
            "Requirement already satisfied: tensorflow in /usr/local/lib/python3.10/dist-packages (2.12.0)\n",
            "Requirement already satisfied: absl-py>=1.0.0 in /usr/local/lib/python3.10/dist-packages (from tensorflow) (1.4.0)\n",
            "Requirement already satisfied: astunparse>=1.6.0 in /usr/local/lib/python3.10/dist-packages (from tensorflow) (1.6.3)\n",
            "Requirement already satisfied: flatbuffers>=2.0 in /usr/local/lib/python3.10/dist-packages (from tensorflow) (23.5.26)\n",
            "Requirement already satisfied: gast<=0.4.0,>=0.2.1 in /usr/local/lib/python3.10/dist-packages (from tensorflow) (0.4.0)\n",
            "Requirement already satisfied: google-pasta>=0.1.1 in /usr/local/lib/python3.10/dist-packages (from tensorflow) (0.2.0)\n",
            "Requirement already satisfied: grpcio<2.0,>=1.24.3 in /usr/local/lib/python3.10/dist-packages (from tensorflow) (1.57.0)\n",
            "Requirement already satisfied: h5py>=2.9.0 in /usr/local/lib/python3.10/dist-packages (from tensorflow) (3.9.0)\n",
            "Requirement already satisfied: jax>=0.3.15 in /usr/local/lib/python3.10/dist-packages (from tensorflow) (0.4.14)\n",
            "Requirement already satisfied: keras<2.13,>=2.12.0 in /usr/local/lib/python3.10/dist-packages (from tensorflow) (2.12.0)\n",
            "Requirement already satisfied: libclang>=13.0.0 in /usr/local/lib/python3.10/dist-packages (from tensorflow) (16.0.6)\n",
            "Requirement already satisfied: numpy<1.24,>=1.22 in /usr/local/lib/python3.10/dist-packages (from tensorflow) (1.23.5)\n",
            "Requirement already satisfied: opt-einsum>=2.3.2 in /usr/local/lib/python3.10/dist-packages (from tensorflow) (3.3.0)\n",
            "Requirement already satisfied: packaging in /usr/local/lib/python3.10/dist-packages (from tensorflow) (23.1)\n",
            "Requirement already satisfied: protobuf!=4.21.0,!=4.21.1,!=4.21.2,!=4.21.3,!=4.21.4,!=4.21.5,<5.0.0dev,>=3.20.3 in /usr/local/lib/python3.10/dist-packages (from tensorflow) (3.20.3)\n",
            "Requirement already satisfied: setuptools in /usr/local/lib/python3.10/dist-packages (from tensorflow) (67.7.2)\n",
            "Requirement already satisfied: six>=1.12.0 in /usr/local/lib/python3.10/dist-packages (from tensorflow) (1.16.0)\n",
            "Requirement already satisfied: tensorboard<2.13,>=2.12 in /usr/local/lib/python3.10/dist-packages (from tensorflow) (2.12.3)\n",
            "Requirement already satisfied: tensorflow-estimator<2.13,>=2.12.0 in /usr/local/lib/python3.10/dist-packages (from tensorflow) (2.12.0)\n",
            "Requirement already satisfied: termcolor>=1.1.0 in /usr/local/lib/python3.10/dist-packages (from tensorflow) (2.3.0)\n",
            "Requirement already satisfied: typing-extensions>=3.6.6 in /usr/local/lib/python3.10/dist-packages (from tensorflow) (4.7.1)\n",
            "Requirement already satisfied: wrapt<1.15,>=1.11.0 in /usr/local/lib/python3.10/dist-packages (from tensorflow) (1.14.1)\n",
            "Requirement already satisfied: tensorflow-io-gcs-filesystem>=0.23.1 in /usr/local/lib/python3.10/dist-packages (from tensorflow) (0.33.0)\n",
            "Requirement already satisfied: wheel<1.0,>=0.23.0 in /usr/local/lib/python3.10/dist-packages (from astunparse>=1.6.0->tensorflow) (0.41.1)\n",
            "Requirement already satisfied: ml-dtypes>=0.2.0 in /usr/local/lib/python3.10/dist-packages (from jax>=0.3.15->tensorflow) (0.2.0)\n",
            "Requirement already satisfied: scipy>=1.7 in /usr/local/lib/python3.10/dist-packages (from jax>=0.3.15->tensorflow) (1.10.1)\n",
            "Requirement already satisfied: google-auth<3,>=1.6.3 in /usr/local/lib/python3.10/dist-packages (from tensorboard<2.13,>=2.12->tensorflow) (2.17.3)\n",
            "Requirement already satisfied: google-auth-oauthlib<1.1,>=0.5 in /usr/local/lib/python3.10/dist-packages (from tensorboard<2.13,>=2.12->tensorflow) (1.0.0)\n",
            "Requirement already satisfied: markdown>=2.6.8 in /usr/local/lib/python3.10/dist-packages (from tensorboard<2.13,>=2.12->tensorflow) (3.4.4)\n",
            "Requirement already satisfied: requests<3,>=2.21.0 in /usr/local/lib/python3.10/dist-packages (from tensorboard<2.13,>=2.12->tensorflow) (2.31.0)\n",
            "Requirement already satisfied: tensorboard-data-server<0.8.0,>=0.7.0 in /usr/local/lib/python3.10/dist-packages (from tensorboard<2.13,>=2.12->tensorflow) (0.7.1)\n",
            "Requirement already satisfied: werkzeug>=1.0.1 in /usr/local/lib/python3.10/dist-packages (from tensorboard<2.13,>=2.12->tensorflow) (2.3.7)\n",
            "Requirement already satisfied: cachetools<6.0,>=2.0.0 in /usr/local/lib/python3.10/dist-packages (from google-auth<3,>=1.6.3->tensorboard<2.13,>=2.12->tensorflow) (5.3.1)\n",
            "Requirement already satisfied: pyasn1-modules>=0.2.1 in /usr/local/lib/python3.10/dist-packages (from google-auth<3,>=1.6.3->tensorboard<2.13,>=2.12->tensorflow) (0.3.0)\n",
            "Requirement already satisfied: rsa<5,>=3.1.4 in /usr/local/lib/python3.10/dist-packages (from google-auth<3,>=1.6.3->tensorboard<2.13,>=2.12->tensorflow) (4.9)\n",
            "Requirement already satisfied: requests-oauthlib>=0.7.0 in /usr/local/lib/python3.10/dist-packages (from google-auth-oauthlib<1.1,>=0.5->tensorboard<2.13,>=2.12->tensorflow) (1.3.1)\n",
            "Requirement already satisfied: charset-normalizer<4,>=2 in /usr/local/lib/python3.10/dist-packages (from requests<3,>=2.21.0->tensorboard<2.13,>=2.12->tensorflow) (3.2.0)\n",
            "Requirement already satisfied: idna<4,>=2.5 in /usr/local/lib/python3.10/dist-packages (from requests<3,>=2.21.0->tensorboard<2.13,>=2.12->tensorflow) (3.4)\n",
            "Requirement already satisfied: urllib3<3,>=1.21.1 in /usr/local/lib/python3.10/dist-packages (from requests<3,>=2.21.0->tensorboard<2.13,>=2.12->tensorflow) (2.0.4)\n",
            "Requirement already satisfied: certifi>=2017.4.17 in /usr/local/lib/python3.10/dist-packages (from requests<3,>=2.21.0->tensorboard<2.13,>=2.12->tensorflow) (2023.7.22)\n",
            "Requirement already satisfied: MarkupSafe>=2.1.1 in /usr/local/lib/python3.10/dist-packages (from werkzeug>=1.0.1->tensorboard<2.13,>=2.12->tensorflow) (2.1.3)\n",
            "Requirement already satisfied: pyasn1<0.6.0,>=0.4.6 in /usr/local/lib/python3.10/dist-packages (from pyasn1-modules>=0.2.1->google-auth<3,>=1.6.3->tensorboard<2.13,>=2.12->tensorflow) (0.5.0)\n",
            "Requirement already satisfied: oauthlib>=3.0.0 in /usr/local/lib/python3.10/dist-packages (from requests-oauthlib>=0.7.0->google-auth-oauthlib<1.1,>=0.5->tensorboard<2.13,>=2.12->tensorflow) (3.2.2)\n"
          ]
        }
      ]
    },
    {
      "cell_type": "code",
      "source": [
        "import tensorflow as tf\n",
        "from tensorflow.keras.datasets import mnist\n",
        "from tensorflow.keras.models import load_model, Sequential\n",
        "from tensorflow.keras.layers import Dense, Flatten\n",
        "from tensorflow.keras.utils import to_categorical, plot_model\n",
        "\n",
        "import matplotlib.pyplot as plt\n",
        "import numpy as np\n",
        "\n",
        "import warnings\n",
        "from warnings import filterwarnings\n",
        "warnings.filterwarnings(\"ignore\",category=DeprecationWarning)\n",
        "warnings.filterwarnings(\"ignore\",category=FutureWarning)\n",
        "warnings.filterwarnings(\"ignore\",category=UserWarning)\n",
        "filterwarnings(\"ignore\")"
      ],
      "metadata": {
        "id": "ak1_PUIsx0g4"
      },
      "execution_count": null,
      "outputs": []
    },
    {
      "cell_type": "code",
      "source": [
        "#Mnist veri setinin Yüklenmesi adimi ;\n",
        "(xTrain, yTrain), (xTest,yTest) = mnist.load_data()"
      ],
      "metadata": {
        "colab": {
          "base_uri": "https://localhost:8080/"
        },
        "id": "EZCt94htzZbV",
        "outputId": "667ed461-7fad-482a-b746-e6a61a354fc8"
      },
      "execution_count": null,
      "outputs": [
        {
          "output_type": "stream",
          "name": "stdout",
          "text": [
            "Downloading data from https://storage.googleapis.com/tensorflow/tf-keras-datasets/mnist.npz\n",
            "11490434/11490434 [==============================] - 1s 0us/step\n"
          ]
        }
      ]
    },
    {
      "cell_type": "code",
      "source": [
        "print(\"Egitim Seti Boyutu : \",xTrain.shape,yTrain.shape)"
      ],
      "metadata": {
        "colab": {
          "base_uri": "https://localhost:8080/"
        },
        "id": "3L7zqXbFznJR",
        "outputId": "fa26520e-6ed0-4da9-a628-84fb833bd8c4"
      },
      "execution_count": null,
      "outputs": [
        {
          "output_type": "stream",
          "name": "stdout",
          "text": [
            "Egitim Seti Boyutu :  (60000, 28, 28) (60000,)\n"
          ]
        }
      ]
    },
    {
      "cell_type": "code",
      "source": [
        "print(\"Test Seti Boyutu : \",xTest.shape,yTest.shape)"
      ],
      "metadata": {
        "colab": {
          "base_uri": "https://localhost:8080/"
        },
        "id": "TR-hslO0z0Vh",
        "outputId": "9e4285b2-3650-49b3-fb2c-9abfb39e76d3"
      },
      "execution_count": null,
      "outputs": [
        {
          "output_type": "stream",
          "name": "stdout",
          "text": [
            "Test Seti Boyutu :  (10000, 28, 28) (10000,)\n"
          ]
        }
      ]
    },
    {
      "cell_type": "code",
      "source": [
        "num_labels = len(np.unique(yTrain))"
      ],
      "metadata": {
        "id": "VTXkDAh80hbQ"
      },
      "execution_count": null,
      "outputs": []
    },
    {
      "cell_type": "code",
      "source": [
        "#Veri setinden ornekler gosterilmesi\n",
        "plt.figure(figsize=(10,10))\n",
        "plt.imshow(xTrain[38380],cmap='gray')"
      ],
      "metadata": {
        "colab": {
          "base_uri": "https://localhost:8080/",
          "height": 847
        },
        "id": "RUfvp3eI0l2y",
        "outputId": "fa6d2e16-ce80-467e-a6cc-2a7312b7cf74"
      },
      "execution_count": null,
      "outputs": [
        {
          "output_type": "execute_result",
          "data": {
            "text/plain": [
              "<matplotlib.image.AxesImage at 0x7abf0e1b8640>"
            ]
          },
          "metadata": {},
          "execution_count": 7
        },
        {
          "output_type": "display_data",
          "data": {
            "text/plain": [
              "<Figure size 1000x1000 with 1 Axes>"
            ],
            "image/png": "[encoded data removed]"
          },
          "metadata": {}
        }
      ]
    },
    {
      "cell_type": "code",
      "source": [
        "plt.figure(figsize=(10,10))\n",
        "for n in range(10):\n",
        "  ax = plt.subplot(5,5,n+1)\n",
        "  plt.imshow(xTrain[n],cmap='gray')\n",
        "  plt.axis('off')"
      ],
      "metadata": {
        "colab": {
          "base_uri": "https://localhost:8080/",
          "height": 329
        },
        "id": "VFhaL_5J1ImV",
        "outputId": "072e5c6e-57ea-4454-a74f-3ed89aec81f8"
      },
      "execution_count": null,
      "outputs": [
        {
          "output_type": "display_data",
          "data": {
            "text/plain": [
              "<Figure size 1000x1000 with 10 Axes>"
            ],
            "image/png": "[encoded data removed]"
          },
          "metadata": {}
        }
      ]
    },
    {
      "cell_type": "code",
      "source": [
        "def visualize_img(data):\n",
        "  plt.figure(figsize=(10,10))\n",
        "  for n in range(10):\n",
        "    ax = plt.subplot(5,5,n+1)\n",
        "    plt.imshow(data[n],cmap='gray')\n",
        "    plt.axis('off')"
      ],
      "metadata": {
        "id": "wciUc75l1cCe"
      },
      "execution_count": null,
      "outputs": []
    },
    {
      "cell_type": "code",
      "source": [
        "visualize_img(xTest)"
      ],
      "metadata": {
        "colab": {
          "base_uri": "https://localhost:8080/",
          "height": 329
        },
        "id": "SUpBjPTA2oRD",
        "outputId": "258f170b-f147-403c-9fe1-397b15e8f65c"
      },
      "execution_count": null,
      "outputs": [
        {
          "output_type": "display_data",
          "data": {
            "text/plain": [
              "<Figure size 1000x1000 with 10 Axes>"
            ],
            "image/png": "[encoded data removed]"
          },
          "metadata": {}
        }
      ]
    },
    {
      "cell_type": "code",
      "source": [
        "plt.figure(figsize=(10,10))\n",
        "plt.imshow(xTrain[2],cmap='gray')"
      ],
      "metadata": {
        "colab": {
          "base_uri": "https://localhost:8080/",
          "height": 847
        },
        "id": "jMWeMrJr3UDf",
        "outputId": "d0df77a6-2eba-4b07-d6bd-44b32e501ffe"
      },
      "execution_count": null,
      "outputs": [
        {
          "output_type": "execute_result",
          "data": {
            "text/plain": [
              "<matplotlib.image.AxesImage at 0x7abf0bb38c40>"
            ]
          },
          "metadata": {},
          "execution_count": 11
        },
        {
          "output_type": "display_data",
          "data": {
            "text/plain": [
              "<Figure size 1000x1000 with 1 Axes>"
            ],
            "image/png": "[encoded data removed]"
          },
          "metadata": {}
        }
      ]
    },
    {
      "cell_type": "markdown",
      "source": [
        "RGB(0,0,0)black to (255,255,255)white\n",
        "\n",
        "r:250 g:10 b:240 = mor"
      ],
      "metadata": {
        "id": "d55WINnDJT7e"
      }
    },
    {
      "cell_type": "code",
      "source": [
        "xTrain[2].shape\n",
        "\n"
      ],
      "metadata": {
        "colab": {
          "base_uri": "https://localhost:8080/"
        },
        "id": "Xs656TbAKpQ-",
        "outputId": "983a1543-eb98-48b0-8e32-73f3e36f2c6d"
      },
      "execution_count": null,
      "outputs": [
        {
          "output_type": "execute_result",
          "data": {
            "text/plain": [
              "(28, 28)"
            ]
          },
          "metadata": {},
          "execution_count": 12
        }
      ]
    },
    {
      "cell_type": "code",
      "source": [
        "xTrain[2][14,10] #2. indexteki görselin 10 satır 10 sütununun renk kodu"
      ],
      "metadata": {
        "colab": {
          "base_uri": "https://localhost:8080/"
        },
        "id": "hh1PFk8KKrGw",
        "outputId": "324b5b8c-8f94-461c-8650-2d3f44c22d21"
      },
      "execution_count": null,
      "outputs": [
        {
          "output_type": "execute_result",
          "data": {
            "text/plain": [
              "49"
            ]
          },
          "metadata": {},
          "execution_count": 16
        }
      ]
    },
    {
      "cell_type": "code",
      "source": [
        "xTrain[2].mean() #ortalama aldık\n"
      ],
      "metadata": {
        "colab": {
          "base_uri": "https://localhost:8080/"
        },
        "id": "tbqm6AtALjyd",
        "outputId": "c7e35d5b-3cfe-4cb9-ccde-a9d065a57960"
      },
      "execution_count": null,
      "outputs": [
        {
          "output_type": "execute_result",
          "data": {
            "text/plain": [
              "24.799744897959183"
            ]
          },
          "metadata": {},
          "execution_count": 17
        }
      ]
    },
    {
      "cell_type": "code",
      "source": [
        "xTrain[2].sum() #toplamını aldık"
      ],
      "metadata": {
        "colab": {
          "base_uri": "https://localhost:8080/"
        },
        "id": "KT0m4NIVNGDp",
        "outputId": "e1a35f7a-871c-42f9-c97d-e3e0535c7359"
      },
      "execution_count": null,
      "outputs": [
        {
          "output_type": "execute_result",
          "data": {
            "text/plain": [
              "19443"
            ]
          },
          "metadata": {},
          "execution_count": 18
        }
      ]
    },
    {
      "cell_type": "code",
      "source": [
        "xTrain[2][0:15,0:5] # resmin sol üstünde dörtgen bi alanı ele alıyoruz"
      ],
      "metadata": {
        "colab": {
          "base_uri": "https://localhost:8080/"
        },
        "id": "g3jDRTQ6NPeR",
        "outputId": "0c5a1596-b85d-4163-bf6b-d9ef01ab1553"
      },
      "execution_count": null,
      "outputs": [
        {
          "output_type": "execute_result",
          "data": {
            "text/plain": [
              "array([[  0,   0,   0,   0,   0],\n",
              "       [  0,   0,   0,   0,   0],\n",
              "       [  0,   0,   0,   0,   0],\n",
              "       [  0,   0,   0,   0,   0],\n",
              "       [  0,   0,   0,   0,   0],\n",
              "       [  0,   0,   0,   0,   0],\n",
              "       [  0,   0,   0,   0,  62],\n",
              "       [  0,   0,   0,   0, 126],\n",
              "       [  0,   0,   0,   0, 220],\n",
              "       [  0,   0,   0,   0, 222],\n",
              "       [  0,   0,   0,  46, 245],\n",
              "       [  0,   0,   0, 120, 254],\n",
              "       [  0,   0,   0, 159, 254],\n",
              "       [  0,   0,   0, 159, 254],\n",
              "       [  0,   0,   0, 159, 254]], dtype=uint8)"
            ]
          },
          "metadata": {},
          "execution_count": 19
        }
      ]
    },
    {
      "cell_type": "code",
      "source": [
        "xTrain[2][0:15,0:5].mean()"
      ],
      "metadata": {
        "colab": {
          "base_uri": "https://localhost:8080/"
        },
        "id": "a3JHCbsDNUYw",
        "outputId": "72a98737-0db7-4fe6-d0c4-64ec4e93e126"
      },
      "execution_count": null,
      "outputs": [
        {
          "output_type": "execute_result",
          "data": {
            "text/plain": [
              "33.78666666666667"
            ]
          },
          "metadata": {},
          "execution_count": 20
        }
      ]
    },
    {
      "cell_type": "code",
      "source": [
        "def pixel_visualize(img): # Veriseti elemanı görselleştirme fonksiyonu\n",
        "  fig = plt.figure(figsize=(12,12))\n",
        "  ax = fig.add_subplot(111)\n",
        "  ax.imshow(img, cmap='gray')\n",
        "  width, height = img.shape\n",
        "\n",
        "  threshold = img.max() / 2.5\n",
        "\n",
        "  for x in range(width):\n",
        "    for y in range(height):\n",
        "\n",
        "      ax.annotate(str(round(img[x] [y], 2)), xy = (y, x),\n",
        "                  color = 'white' if img[x][y]<threshold else 'black')\n"
      ],
      "metadata": {
        "id": "R62pERElN10D"
      },
      "execution_count": null,
      "outputs": []
    },
    {
      "cell_type": "code",
      "source": [
        "pixel_visualize(xTrain[8])"
      ],
      "metadata": {
        "colab": {
          "base_uri": "https://localhost:8080/",
          "height": 984
        },
        "id": "MdI4yQbmPKlo",
        "outputId": "d47c9056-a498-49e4-db5b-fb0587f1f5b9"
      },
      "execution_count": null,
      "outputs": [
        {
          "output_type": "display_data",
          "data": {
            "text/plain": [
              "<Figure size 1200x1200 with 1 Axes>"
            ],
            "image/png": "[encoded data removed]"
          },
          "metadata": {}
        }
      ]
    },
    {
      "cell_type": "markdown",
      "source": [
        "**VERIYI HAZIRLAMA (DATA PREPARATION)**\n",
        "\n",
        "\n",
        "\n",
        "\n",
        "\n",
        "\n"
      ],
      "metadata": {
        "id": "JvFRS3u9XYgT"
      }
    },
    {
      "cell_type": "markdown",
      "source": [
        "\n",
        "\n",
        "> encoding\n",
        "\n",
        "Önce: [0 1 2 3 4 5 6 7 8 9]\n",
        "Sonra:[0 0 1 0 0 0 0 0 0 0]\n",
        "\n",
        "\n",
        "\n",
        "\n"
      ],
      "metadata": {
        "id": "l7rrNKMTX2Ie"
      }
    },
    {
      "cell_type": "code",
      "source": [
        "yTrain[0:5]"
      ],
      "metadata": {
        "colab": {
          "base_uri": "https://localhost:8080/"
        },
        "id": "IsX8lIcVYB7U",
        "outputId": "bba5422c-5909-4b24-f6cd-acb975a82b59"
      },
      "execution_count": null,
      "outputs": [
        {
          "output_type": "execute_result",
          "data": {
            "text/plain": [
              "array([5, 0, 4, 1, 9], dtype=uint8)"
            ]
          },
          "metadata": {},
          "execution_count": 13
        }
      ]
    },
    {
      "cell_type": "code",
      "source": [
        "yTrain = to_categorical(yTrain)\n",
        "yTest = to_categorical(yTest)"
      ],
      "metadata": {
        "id": "UASk5osPYlBk"
      },
      "execution_count": null,
      "outputs": []
    },
    {
      "cell_type": "code",
      "source": [
        "yTrain[0:5]"
      ],
      "metadata": {
        "colab": {
          "base_uri": "https://localhost:8080/"
        },
        "id": "U_do_V2kY0Pi",
        "outputId": "85f84118-bc18-4383-cd6f-9df84554062a"
      },
      "execution_count": null,
      "outputs": [
        {
          "output_type": "execute_result",
          "data": {
            "text/plain": [
              "array([[0., 0., 0., 0., 0., 1., 0., 0., 0., 0.],\n",
              "       [1., 0., 0., 0., 0., 0., 0., 0., 0., 0.],\n",
              "       [0., 0., 0., 0., 1., 0., 0., 0., 0., 0.],\n",
              "       [0., 1., 0., 0., 0., 0., 0., 0., 0., 0.],\n",
              "       [0., 0., 0., 0., 0., 0., 0., 0., 0., 1.]], dtype=float32)"
            ]
          },
          "metadata": {},
          "execution_count": 15
        }
      ]
    },
    {
      "cell_type": "markdown",
      "source": [
        "\n",
        "\n",
        "> reshaping\n",
        "\n",
        "\n",
        "\n"
      ],
      "metadata": {
        "id": "2oR6x-PjX2RS"
      }
    },
    {
      "cell_type": "code",
      "source": [
        "image_size = xTrain.shape[1]\n",
        "\n",
        "image_size"
      ],
      "metadata": {
        "colab": {
          "base_uri": "https://localhost:8080/"
        },
        "id": "eWBoPt0cYzzR",
        "outputId": "a87b141a-ece1-44de-87f2-58f15d8e1a17"
      },
      "execution_count": null,
      "outputs": [
        {
          "output_type": "execute_result",
          "data": {
            "text/plain": [
              "28"
            ]
          },
          "metadata": {},
          "execution_count": 16
        }
      ]
    },
    {
      "cell_type": "code",
      "source": [
        "print(f\"xTrain boyutu  {xTrain.shape}\")\n",
        "print(f\"xTEst boyutu:  {xTest.shape}\")\n"
      ],
      "metadata": {
        "colab": {
          "base_uri": "https://localhost:8080/"
        },
        "id": "runeiYJnYCUY",
        "outputId": "0dd129dd-6eb4-45da-ef23-8d62a876d2d7"
      },
      "execution_count": null,
      "outputs": [
        {
          "output_type": "stream",
          "name": "stdout",
          "text": [
            "xTrain boyutu  (60000, 28, 28)\n",
            "xTEst boyutu:  (10000, 28, 28)\n"
          ]
        }
      ]
    },
    {
      "cell_type": "code",
      "source": [
        "xTrain = xTrain.reshape(xTrain.shape[0],28,28,1)\n",
        "xTest = xTest.reshape(xTest.shape[0],28,28,1)\n",
        "\n",
        "print(f\"xTrain boyutu  {xTrain.shape}\")\n",
        "print(f\"xTEst boyutu:  {xTest.shape}\")\n",
        "\n"
      ],
      "metadata": {
        "colab": {
          "base_uri": "https://localhost:8080/"
        },
        "id": "n4w4HI-0Xgfs",
        "outputId": "d3dce66a-13d9-4e77-f678-11f7c9cae7b3"
      },
      "execution_count": null,
      "outputs": [
        {
          "output_type": "stream",
          "name": "stdout",
          "text": [
            "xTrain boyutu  (60000, 28, 28, 1)\n",
            "xTEst boyutu:  (10000, 28, 28, 1)\n"
          ]
        }
      ]
    },
    {
      "cell_type": "markdown",
      "source": [
        "\n",
        "\n",
        "> normalization\n",
        "\n"
      ],
      "metadata": {
        "id": "xJR0Q6NcX7EE"
      }
    },
    {
      "cell_type": "markdown",
      "source": [
        "tüm değerleri 255 e bölersek degerler rgb oldugu ve 0,255 arasında uzandığı için. Değerlerimizi 0-1 arasına alıp standartlaştırmış oluruz"
      ],
      "metadata": {
        "id": "eHOS3CeVdOHm"
      }
    },
    {
      "cell_type": "code",
      "source": [
        "xTrain = xTrain.astype('float32') / 255\n",
        "xTest = xTest.astype('float32') / 255"
      ],
      "metadata": {
        "id": "ehR_YaaWc3TF"
      },
      "execution_count": null,
      "outputs": []
    },
    {
      "cell_type": "markdown",
      "source": [
        "**MODELLEME**\n"
      ],
      "metadata": {
        "id": "aH3q5Vt5h9nY"
      }
    },
    {
      "cell_type": "markdown",
      "source": [
        "Sinir Agi Mimarisini Tanimlamak"
      ],
      "metadata": {
        "id": "JfJARZ42h_fl"
      }
    },
    {
      "cell_type": "code",
      "source": [
        "model = tf.keras.Sequential([\n",
        "    Flatten(input_shape=(28,28,1)),\n",
        "    Dense(units=128, activation='relu',name='layer1'), #hidden layer\n",
        "    Dense(units=num_labels, activation='softmax',name='output_layer')])\n",
        "\n",
        "model.compile(loss='categorical_crossentropy',\n",
        "              optimizer = 'adam', ##loss fonksiyonunu minimize edecek fonk. (adam)\n",
        "              metrics=[tf.keras.metrics.Precision(),tf.keras.metrics.Recall(),\"accuracy\"])"
      ],
      "metadata": {
        "id": "nxaWUD0BdoqV"
      },
      "execution_count": null,
      "outputs": []
    },
    {
      "cell_type": "markdown",
      "source": [
        "tf.keras.Sequential: Bu, bir sıralı (sequential) model oluşturmak için kullanılan bir Keras sınıfıdır. Bu tür bir modelde katmanlar ardışık olarak birbirine bağlanır.\n",
        "\n",
        "Flatten(input_shape=(28, 28, 1)): Bu, girdi verilerini düzleştiren (flatten) bir katmandır. Girdi veri 28x28 piksellik siyah beyaz bir görüntüdür, bu nedenle input_shape parametresi (28, 28, 1) olarak belirtilir. Son boyut 1, çünkü görüntüler tek kanallı (siyah beyaz) olarak kabul ediliyor.\n",
        "\n",
        "Dense(units=128, activation='relu', name='layer1'): Bu, tam bağlantılı (fully connected) bir gizli katmandır. units, katmandaki nöron (node) sayısını belirtir. Aktivasyon fonksiyonu olarak 'relu' (Rectified Linear Activation) kullanılır. Bu katman, girdiyi 128 boyutlu özetlemek için kullanılır.\n",
        "\n",
        "Dense(units=num_labels, activation='softmax', name='output_layer'): Bu, çıkış katmanıdır. num_labels, çıkış sınıf sayısını belirtir. Bu katmanda softmax aktivasyon fonksiyonu kullanılır. Softmax, sınıflar arasındaki olasılıkları normalize eder ve sınıf tahminleri elde etmek için sıklıkla kullanılır.\n",
        "\n",
        "Toplamda, bu model, 28x28 piksellik siyah beyaz el yazısı rakamlarını girdi olarak alır, bunları düzleştirir, ardından 128 nöronlu gizli bir katmanda özetler ve son olarak çıkış katmanında sınıf tahminleri üretir.\n",
        "\n",
        "Flatten katmanından sonra gelen tam bağlantılı (Dense) katmanlar, girdi verilerini düzleştirdikten sonra bu verileri işlemek ve öğrenmek için kullanılır. Çıkış katmanı ise, tahminlerin yapılması için kullanılır.\n",
        "\n",
        "\n",
        "*MODEL COMPILE*\n",
        "\n",
        "model.compile(): Bu yöntem, modeli derlemek ve eğitim için gerekli yapılandırmaları yapmak için kullanılır.\n",
        "\n",
        "loss='categorical_crossentropy': Kayıp fonksiyonu olarak kullanılacak kayıp metriğini belirtir. Bu durumda, çok sınıflı sınıflandırma için yaygın bir kayıp fonksiyonu olan 'categorical_crossentropy' kullanılıyor. Bu fonksiyon, tahminlerin gerçek etiketlerden ne kadar uzak olduğunu ölçer.\n",
        "\n",
        "optimizer='adam': Optimizasyon algoritmasını belirtir. 'Adam' optimizerı, adaptif moment tahmini (adaptive moment estimation) tekniğini kullanarak verileri optimize eder. Bu optimizer, genellikle makine öğrenimi modellerinde tercih edilen bir seçenektir.\n",
        "\n",
        "metrics=[tf.keras.metrics.Precision(), tf.keras.metrics.Recall(), \"accuracy\"]: Eğitim sırasında takip edilecek metrikleri belirtir. Burada 3 farklı metrik belirtilmiş:\n",
        "\n",
        "tf.keras.metrics.Precision(): Hassasiyet metriği. Doğru pozitif tahminlerin toplam pozitif tahminlere oranını hesaplar.\n",
        "tf.keras.metrics.Recall(): Duyarlılık metriği. Gerçek pozitif tahminlerin toplam gerçek pozitif örneklere oranını hesaplar.\n",
        "\"accuracy\": Doğruluk metriği. Doğru tahminlerin toplam örneklere oranını hesaplar\n"
      ],
      "metadata": {
        "id": "ayTHUqgcjqlK"
      }
    },
    {
      "cell_type": "code",
      "source": [
        "model.summary() # modelin özeti"
      ],
      "metadata": {
        "colab": {
          "base_uri": "https://localhost:8080/"
        },
        "id": "G456Jr__jSRe",
        "outputId": "3ee9628b-5620-43da-b8ca-28fe3d82c8c2"
      },
      "execution_count": null,
      "outputs": [
        {
          "output_type": "stream",
          "name": "stdout",
          "text": [
            "Model: \"sequential\"\n",
            "_________________________________________________________________\n",
            " Layer (type)                Output Shape              Param #   \n",
            "=================================================================\n",
            " flatten (Flatten)           (None, 784)               0         \n",
            "                                                                 \n",
            " layer1 (Dense)              (None, 128)               100480    \n",
            "                                                                 \n",
            " output_layer (Dense)        (None, 10)                1290      \n",
            "                                                                 \n",
            "=================================================================\n",
            "Total params: 101,770\n",
            "Trainable params: 101,770\n",
            "Non-trainable params: 0\n",
            "_________________________________________________________________\n"
          ]
        }
      ]
    },
    {
      "cell_type": "markdown",
      "source": [
        "Bu derleme aşamasından sonra, model eğitilmeye hazır hale gelir. model.fit() fonksiyonu kullanılarak model eğitimi gerçekleştirilebilir. Bu işlemden sonra model, veriye göre ayarlanmış ağırlıklarla eğitilmiş olur ve belirtilen metrikler ve kayıp fonksiyonu kullanılarak eğitim sırasında performansını izleyebilirsiniz.\n",
        "\n",
        "\n",
        "\n",
        "\n"
      ],
      "metadata": {
        "id": "1nzcPCjPniVR"
      }
    },
    {
      "cell_type": "code",
      "source": [
        "print(len(xTrain), len(yTrain))"
      ],
      "metadata": {
        "colab": {
          "base_uri": "https://localhost:8080/"
        },
        "id": "QNW5SLD7oPmI",
        "outputId": "544119e5-4976-42f1-b54e-81d2ad2e1d48"
      },
      "execution_count": null,
      "outputs": [
        {
          "output_type": "stream",
          "name": "stdout",
          "text": [
            "60000 60000\n"
          ]
        }
      ]
    },
    {
      "cell_type": "code",
      "source": [
        "xTrain.size\n"
      ],
      "metadata": {
        "colab": {
          "base_uri": "https://localhost:8080/"
        },
        "id": "9-Fj1tmApLLJ",
        "outputId": "853577f8-65e7-4544-92c1-806f09456b22"
      },
      "execution_count": null,
      "outputs": [
        {
          "output_type": "execute_result",
          "data": {
            "text/plain": [
              "47040000"
            ]
          },
          "metadata": {},
          "execution_count": 23
        }
      ]
    },
    {
      "cell_type": "markdown",
      "source": [],
      "metadata": {
        "id": "HZRsHy7fzgir"
      }
    },
    {
      "cell_type": "code",
      "source": [
        "model.fit(xTrain, yTrain, epochs=10, batch_size=128, validation_data=(xTest, yTest))\n"
      ],
      "metadata": {
        "colab": {
          "base_uri": "https://localhost:8080/"
        },
        "id": "CFQNd_4WnzJr",
        "outputId": "1eb7febf-5d0b-44d0-8f50-a0be128d58dd"
      },
      "execution_count": null,
      "outputs": [
        {
          "output_type": "stream",
          "name": "stdout",
          "text": [
            "Epoch 1/10\n",
            "469/469 [==============================] - 4s 6ms/step - loss: 0.3524 - precision: 0.9464 - recall: 0.8524 - accuracy: 0.9028 - val_loss: 0.1908 - val_precision: 0.9583 - val_recall: 0.9336 - val_accuracy: 0.9448\n",
            "Epoch 2/10\n",
            "469/469 [==============================] - 2s 5ms/step - loss: 0.1625 - precision: 0.9652 - recall: 0.9441 - accuracy: 0.9541 - val_loss: 0.1374 - val_precision: 0.9693 - val_recall: 0.9537 - val_accuracy: 0.9602\n",
            "Epoch 3/10\n",
            "469/469 [==============================] - 2s 5ms/step - loss: 0.1159 - precision: 0.9738 - recall: 0.9602 - accuracy: 0.9664 - val_loss: 0.1086 - val_precision: 0.9730 - val_recall: 0.9623 - val_accuracy: 0.9667\n",
            "Epoch 4/10\n",
            "469/469 [==============================] - 3s 7ms/step - loss: 0.0888 - precision: 0.9793 - recall: 0.9695 - accuracy: 0.9741 - val_loss: 0.0978 - val_precision: 0.9763 - val_recall: 0.9665 - val_accuracy: 0.9708\n",
            "Epoch 5/10\n",
            "469/469 [==============================] - 2s 5ms/step - loss: 0.0718 - precision: 0.9835 - recall: 0.9759 - accuracy: 0.9795 - val_loss: 0.0843 - val_precision: 0.9777 - val_recall: 0.9710 - val_accuracy: 0.9737\n",
            "Epoch 6/10\n",
            "469/469 [==============================] - 2s 5ms/step - loss: 0.0588 - precision: 0.9865 - recall: 0.9807 - accuracy: 0.9835 - val_loss: 0.0805 - val_precision: 0.9796 - val_recall: 0.9728 - val_accuracy: 0.9766\n",
            "Epoch 7/10\n",
            "469/469 [==============================] - 2s 5ms/step - loss: 0.0487 - precision: 0.9886 - recall: 0.9841 - accuracy: 0.9863 - val_loss: 0.0755 - val_precision: 0.9789 - val_recall: 0.9738 - val_accuracy: 0.9767\n",
            "Epoch 8/10\n",
            "469/469 [==============================] - 2s 5ms/step - loss: 0.0408 - precision: 0.9907 - recall: 0.9870 - accuracy: 0.9888 - val_loss: 0.0711 - val_precision: 0.9802 - val_recall: 0.9760 - val_accuracy: 0.9784\n",
            "Epoch 9/10\n",
            "469/469 [==============================] - 3s 7ms/step - loss: 0.0349 - precision: 0.9920 - recall: 0.9887 - accuracy: 0.9904 - val_loss: 0.0689 - val_precision: 0.9804 - val_recall: 0.9763 - val_accuracy: 0.9780\n",
            "Epoch 10/10\n",
            "469/469 [==============================] - 2s 5ms/step - loss: 0.0290 - precision: 0.9935 - recall: 0.9910 - accuracy: 0.9922 - val_loss: 0.0684 - val_precision: 0.9800 - val_recall: 0.9765 - val_accuracy: 0.9778\n"
          ]
        },
        {
          "output_type": "execute_result",
          "data": {
            "text/plain": [
              "<keras.callbacks.History at 0x7abf0e581960>"
            ]
          },
          "metadata": {},
          "execution_count": 24
        }
      ]
    },
    {
      "cell_type": "markdown",
      "source": [
        "**MODEL BAŞARISINI DEGERLENDİRME (EVULATION)**"
      ],
      "metadata": {
        "id": "zuRW4HNl_H_y"
      }
    },
    {
      "cell_type": "code",
      "source": [
        "history = model.fit(xTrain, yTrain, epochs=10, batch_size=128, validation_data=(xTest, yTest))\n"
      ],
      "metadata": {
        "colab": {
          "base_uri": "https://localhost:8080/"
        },
        "id": "-A5rysbX-f3H",
        "outputId": "f8491dc8-0d58-4042-a524-06229dbd121f"
      },
      "execution_count": null,
      "outputs": [
        {
          "output_type": "stream",
          "name": "stdout",
          "text": [
            "Epoch 1/10\n",
            "469/469 [==============================] - 2s 5ms/step - loss: 0.0245 - precision: 0.9948 - recall: 0.9928 - accuracy: 0.9939 - val_loss: 0.0656 - val_precision: 0.9815 - val_recall: 0.9777 - val_accuracy: 0.9787\n",
            "Epoch 2/10\n",
            "469/469 [==============================] - 4s 7ms/step - loss: 0.0206 - precision: 0.9957 - recall: 0.9940 - accuracy: 0.9948 - val_loss: 0.0748 - val_precision: 0.9789 - val_recall: 0.9760 - val_accuracy: 0.9772\n",
            "Epoch 3/10\n",
            "469/469 [==============================] - 2s 5ms/step - loss: 0.0189 - precision: 0.9959 - recall: 0.9947 - accuracy: 0.9953 - val_loss: 0.0713 - val_precision: 0.9799 - val_recall: 0.9776 - val_accuracy: 0.9788\n",
            "Epoch 4/10\n",
            "469/469 [==============================] - 2s 5ms/step - loss: 0.0156 - precision: 0.9968 - recall: 0.9957 - accuracy: 0.9964 - val_loss: 0.0668 - val_precision: 0.9803 - val_recall: 0.9782 - val_accuracy: 0.9788\n",
            "Epoch 5/10\n",
            "469/469 [==============================] - 2s 5ms/step - loss: 0.0125 - precision: 0.9978 - recall: 0.9969 - accuracy: 0.9974 - val_loss: 0.0715 - val_precision: 0.9803 - val_recall: 0.9773 - val_accuracy: 0.9789\n",
            "Epoch 6/10\n",
            "469/469 [==============================] - 2s 5ms/step - loss: 0.0112 - precision: 0.9981 - recall: 0.9974 - accuracy: 0.9978 - val_loss: 0.0753 - val_precision: 0.9798 - val_recall: 0.9777 - val_accuracy: 0.9789\n",
            "Epoch 7/10\n",
            "469/469 [==============================] - 3s 7ms/step - loss: 0.0096 - precision: 0.9982 - recall: 0.9977 - accuracy: 0.9980 - val_loss: 0.0707 - val_precision: 0.9816 - val_recall: 0.9794 - val_accuracy: 0.9808\n",
            "Epoch 8/10\n",
            "469/469 [==============================] - 2s 5ms/step - loss: 0.0085 - precision: 0.9986 - recall: 0.9982 - accuracy: 0.9984 - val_loss: 0.0720 - val_precision: 0.9806 - val_recall: 0.9784 - val_accuracy: 0.9797\n",
            "Epoch 9/10\n",
            "469/469 [==============================] - 2s 5ms/step - loss: 0.0064 - precision: 0.9992 - recall: 0.9989 - accuracy: 0.9991 - val_loss: 0.0770 - val_precision: 0.9798 - val_recall: 0.9777 - val_accuracy: 0.9785\n",
            "Epoch 10/10\n",
            "469/469 [==============================] - 2s 5ms/step - loss: 0.0055 - precision: 0.9993 - recall: 0.9991 - accuracy: 0.9993 - val_loss: 0.0804 - val_precision: 0.9804 - val_recall: 0.9782 - val_accuracy: 0.9791\n"
          ]
        }
      ]
    },
    {
      "cell_type": "code",
      "source": [
        "###############################\n",
        "# ACCURACY VE LOSS GRAFIKLERI #\n",
        "###############################\n",
        "\n",
        "#---------------GRAFİK 1 ACCURACY\n",
        "plt.figure(figsize=[20,5])\n",
        "plt.subplot(1,2,1)\n",
        "plt.plot(history.history['accuracy'],color = 'b', label = 'Training Accuracy')\n",
        "plt.plot(history.history['val_accuracy'],color = 'r', label = 'Validation Accuracy')\n",
        "plt.legend(loc='lower right')\n",
        "plt.xlabel('Epoch',fontsize=16)\n",
        "plt.ylabel('Accuracy',fontsize=16)\n",
        "plt.ylim([min(plt.ylim()),1])\n",
        "plt.title('Egitim Ve Test Başarim Grafigi ', fontsize=16)\n",
        "\n",
        "#----------- GRAFİK 2 LOSS\n",
        "plt.subplot(1,2,2)\n",
        "plt.plot(history.history['loss'],color = 'b', label = 'Training Loss')\n",
        "plt.plot(history.history['val_loss'],color = 'r', label = 'Validation Loss')\n",
        "plt.legend(loc='upper right')\n",
        "plt.xlabel('Epoch',fontsize=16)\n",
        "plt.ylabel('Loss',fontsize=16)\n",
        "plt.ylim([0,max(plt.ylim())])\n",
        "plt.title('Egitim Ve Test Kayıp Grafigi ', fontsize=16)\n",
        "plt.show()\n",
        "\n",
        "\n"
      ],
      "metadata": {
        "colab": {
          "base_uri": "https://localhost:8080/",
          "height": 298
        },
        "id": "jnYxoFA3-lQj",
        "outputId": "944f69b5-7ba2-47f5-cb81-a381ab69b198"
      },
      "execution_count": null,
      "outputs": [
        {
          "output_type": "display_data",
          "data": {
            "text/plain": [
              "<Figure size 2000x500 with 2 Axes>"
            ],
            "image/png": "[encoded data removed]"
          },
          "metadata": {}
        }
      ]
    },
    {
      "cell_type": "code",
      "source": [
        "loss, precision, recall, acc = model.evaluate(xTest,yTest,verbose = False)\n",
        "print(\"\\nTest Accuracy :%.lf%%\" % (100.0 * acc))\n",
        "print('\\nTest Loss :%.lf%%' % (100.0 * loss))\n",
        "print('\\nTest Precision :%.lf%%' % (100.0 * precision))\n",
        "print('\\nTest Recall :%.lf%%' % (100.0 * recall))"
      ],
      "metadata": {
        "colab": {
          "base_uri": "https://localhost:8080/"
        },
        "id": "KokRI_7owHIA",
        "outputId": "f847b3f1-049d-4d64-f391-0ba50089a6d6"
      },
      "execution_count": null,
      "outputs": [
        {
          "output_type": "stream",
          "name": "stdout",
          "text": [
            "\n",
            "Test Accuracy :98%\n",
            "\n",
            "Test Loss :8%\n",
            "\n",
            "Test Precision :98%\n",
            "\n",
            "Test Recall :98%\n"
          ]
        }
      ]
    },
    {
      "cell_type": "markdown",
      "source": [
        "**MODELİN KAYDEDİLMESİ VE TAHMİN İÇİN KULLANILMASI**"
      ],
      "metadata": {
        "id": "ugtQYAxVM-c5"
      }
    },
    {
      "cell_type": "code",
      "source": [
        "model.save(\"mnist_model.h5\")"
      ],
      "metadata": {
        "id": "ofkgGgCMErqS"
      },
      "execution_count": null,
      "outputs": []
    },
    {
      "cell_type": "code",
      "source": [
        "import random\n",
        "\n",
        "random = random.randint(0,xTest.shape[0])"
      ],
      "metadata": {
        "id": "vLGtq1CUNFSU"
      },
      "execution_count": null,
      "outputs": []
    },
    {
      "cell_type": "code",
      "source": [
        "random\n"
      ],
      "metadata": {
        "colab": {
          "base_uri": "https://localhost:8080/"
        },
        "id": "iYUp1qIFNL0x",
        "outputId": "307689e2-eddc-4ef5-9b7c-a27855e44351"
      },
      "execution_count": null,
      "outputs": [
        {
          "output_type": "execute_result",
          "data": {
            "text/plain": [
              "8495"
            ]
          },
          "metadata": {},
          "execution_count": 37
        }
      ]
    },
    {
      "cell_type": "code",
      "source": [
        "test_image = xTest[random]\n"
      ],
      "metadata": {
        "id": "KFD1ysmWNMnG"
      },
      "execution_count": null,
      "outputs": []
    },
    {
      "cell_type": "code",
      "source": [
        "yTest[random]"
      ],
      "metadata": {
        "colab": {
          "base_uri": "https://localhost:8080/"
        },
        "id": "zueYV0yZNP6B",
        "outputId": "817c89af-df78-44a6-f80f-31165d3f7732"
      },
      "execution_count": null,
      "outputs": [
        {
          "output_type": "execute_result",
          "data": {
            "text/plain": [
              "array([0., 0., 1., 0., 0., 0., 0., 0., 0., 0.], dtype=float32)"
            ]
          },
          "metadata": {},
          "execution_count": 39
        }
      ]
    },
    {
      "cell_type": "code",
      "source": [
        "plt.imshow(test_image.reshape(28,28),cmap='gray')"
      ],
      "metadata": {
        "colab": {
          "base_uri": "https://localhost:8080/",
          "height": 447
        },
        "id": "o1GDsXXbNUSv",
        "outputId": "268bc577-c956-49f5-94d5-64d9694d51d6"
      },
      "execution_count": null,
      "outputs": [
        {
          "output_type": "execute_result",
          "data": {
            "text/plain": [
              "<matplotlib.image.AxesImage at 0x7abef9075de0>"
            ]
          },
          "metadata": {},
          "execution_count": 42
        },
        {
          "output_type": "display_data",
          "data": {
            "text/plain": [
              "<Figure size 640x480 with 1 Axes>"
            ],
            "image/png": "[encoded data removed]"
          },
          "metadata": {}
        }
      ]
    },
    {
      "cell_type": "code",
      "source": [
        "test_data = xTest[random].reshape(1,28,28,1)"
      ],
      "metadata": {
        "id": "3ULZX94FNnF1"
      },
      "execution_count": null,
      "outputs": []
    },
    {
      "cell_type": "code",
      "source": [
        "probability = model.predict(test_data)"
      ],
      "metadata": {
        "colab": {
          "base_uri": "https://localhost:8080/"
        },
        "id": "IzIAt0FsOJbW",
        "outputId": "630cad9e-bf87-4b02-d521-26ddd3a4fc3e"
      },
      "execution_count": null,
      "outputs": [
        {
          "output_type": "stream",
          "name": "stdout",
          "text": [
            "1/1 [==============================] - 0s 138ms/step\n"
          ]
        }
      ]
    },
    {
      "cell_type": "code",
      "source": [
        "probability"
      ],
      "metadata": {
        "colab": {
          "base_uri": "https://localhost:8080/"
        },
        "id": "BHEwYQJFOW1z",
        "outputId": "c4679acc-a016-4d65-8416-030873936c43"
      },
      "execution_count": null,
      "outputs": [
        {
          "output_type": "execute_result",
          "data": {
            "text/plain": [
              "array([[4.4155327e-18, 5.9137955e-12, 9.9999976e-01, 2.8938723e-07,\n",
              "        1.8037979e-20, 1.9149961e-14, 2.3777484e-14, 9.3246003e-19,\n",
              "        4.8809388e-09, 1.2939086e-22]], dtype=float32)"
            ]
          },
          "metadata": {},
          "execution_count": 46
        }
      ]
    },
    {
      "cell_type": "code",
      "source": [
        "predicted_classes = np.argmax(probability)"
      ],
      "metadata": {
        "id": "g3HleRm8OYV1"
      },
      "execution_count": null,
      "outputs": []
    },
    {
      "cell_type": "code",
      "source": [
        "predicted_classes"
      ],
      "metadata": {
        "id": "FQiVJK1dOc7Y",
        "outputId": "75230000-e61c-4379-a609-e4b8270eaff1",
        "colab": {
          "base_uri": "https://localhost:8080/"
        }
      },
      "execution_count": null,
      "outputs": [
        {
          "output_type": "execute_result",
          "data": {
            "text/plain": [
              "2"
            ]
          },
          "metadata": {},
          "execution_count": 48
        }
      ]
    },
    {
      "cell_type": "code",
      "source": [],
      "metadata": {
        "id": "PZ3ANewiOe74"
      },
      "execution_count": null,
      "outputs": []
    }
  ]
}